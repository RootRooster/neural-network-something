{
 "cells": [
  {
   "cell_type": "code",
   "execution_count": 2,
   "id": "19ac2933",
   "metadata": {},
   "outputs": [
    {
     "name": "stdout",
     "output_type": "stream",
     "text": [
      "Warning: Additional missing columns in aneurysm_columns - ['SeriesInstanceUID', 'SOPInstanceUID', 'Modality', 'Aneurysm Present']\n"
     ]
    }
   ],
   "source": [
    "import pandas as pd\n",
    "aneurysm_columns = [\n",
    "            'Left Infraclinoid Internal Carotid Artery',\n",
    "            'Right Infraclinoid Internal Carotid Artery',\n",
    "            'Left Supraclinoid Internal Carotid Artery',\n",
    "            'Right Supraclinoid Internal Carotid Artery',\n",
    "            'Left Middle Cerebral Artery',\n",
    "            'Right Middle Cerebral Artery',\n",
    "            'Anterior Communicating Artery',\n",
    "            'Left Anterior Cerebral Artery',\n",
    "            'Right Anterior Cerebral Artery',\n",
    "            'Left Posterior Communicating Artery',\n",
    "            'Right Posterior Communicating Artery',\n",
    "            'Basilar Tip',\n",
    "            'Other Posterior Circulation'\n",
    "]\n",
    "\n",
    "# read the train.csv file and check if the aneurysm columns are present\n",
    "train_df = pd.read_csv(\"train.csv\")\n",
    "missing_columns = [col for col in aneurysm_columns if col not in train_df.columns]\n",
    "if missing_columns:\n",
    "    print(f\"Warning: Missing columns in train.csv - {missing_columns}\")\n",
    "\n",
    "# check if there are any more missing elements in list that are in train_df\n",
    "additional_missing = [col for col in train_df.columns if col not in aneurysm_columns]\n",
    "if additional_missing:\n",
    "    print(f\"Warning: Additional missing columns in aneurysm_columns - {additional_missing}\")"
   ]
  },
  {
   "cell_type": "code",
   "execution_count": 14,
   "id": "124d3a2e",
   "metadata": {},
   "outputs": [],
   "source": [
    "import json\n",
    "import re\n",
    "import pandas as pd\n",
    "import ast\n",
    "\n",
    "labels = pd.read_csv(\"./validation_labels.csv\")\n",
    "string = labels.iloc[0][\"Coordinates\"]\n",
    "string_json = string.replace(\"'\", \"\\\"\")\n",
    "\n",
    "pattern = r\"{'x':\\s*[-+]?\\d*\\.?\\d+,\\s*'y':\\s*[-+]?\\d*\\.?\\d+}\"\n",
    "\n",
    "# Function to check if the string matches the pattern\n",
    "def is_valid_coordinate(coord_string):\n",
    "    return bool(re.match(pattern, coord_string))\n",
    "\n",
    "labels['Coordinates'].apply(is_valid_coordinate)\n",
    "data_dict = ast.literal_eval(string)\n"
   ]
  },
  {
   "cell_type": "code",
   "execution_count": 21,
   "id": "6835079c",
   "metadata": {},
   "outputs": [
    {
     "data": {
      "text/html": [
       "<div>\n",
       "<style scoped>\n",
       "    .dataframe tbody tr th:only-of-type {\n",
       "        vertical-align: middle;\n",
       "    }\n",
       "\n",
       "    .dataframe tbody tr th {\n",
       "        vertical-align: top;\n",
       "    }\n",
       "\n",
       "    .dataframe thead th {\n",
       "        text-align: right;\n",
       "    }\n",
       "</style>\n",
       "<table border=\"1\" class=\"dataframe\">\n",
       "  <thead>\n",
       "    <tr style=\"text-align: right;\">\n",
       "      <th></th>\n",
       "      <th>SeriesInstanceUID</th>\n",
       "      <th>SOPInstanceUID</th>\n",
       "      <th>Coordinates</th>\n",
       "      <th>Coordinates Type</th>\n",
       "      <th>Sample position</th>\n",
       "    </tr>\n",
       "  </thead>\n",
       "  <tbody>\n",
       "    <tr>\n",
       "      <th>9</th>\n",
       "      <td>1.2.826.0.1.3680043.8.498.22211629182683830500...</td>\n",
       "      <td>1.2.826.0.1.3680043.8.498.12390798958014529099...</td>\n",
       "      <td>{'x': 235.42681047765794, 'y': 217.73805855161...</td>\n",
       "      <td>Right Supraclinoid Internal Carotid Artery</td>\n",
       "      <td>0.421277</td>\n",
       "    </tr>\n",
       "    <tr>\n",
       "      <th>10</th>\n",
       "      <td>1.2.826.0.1.3680043.8.498.22211629182683830500...</td>\n",
       "      <td>1.2.826.0.1.3680043.8.498.78729507603965355580...</td>\n",
       "      <td>{'x': 234.63790446841296, 'y': 220.10477657935...</td>\n",
       "      <td>Right Supraclinoid Internal Carotid Artery</td>\n",
       "      <td>0.400000</td>\n",
       "    </tr>\n",
       "    <tr>\n",
       "      <th>11</th>\n",
       "      <td>1.2.826.0.1.3680043.8.498.22211629182683830500...</td>\n",
       "      <td>1.2.826.0.1.3680043.8.498.11692316938253833126...</td>\n",
       "      <td>{'x': 235.42681047765794, 'y': 215.3713405238829}</td>\n",
       "      <td>Right Supraclinoid Internal Carotid Artery</td>\n",
       "      <td>0.429787</td>\n",
       "    </tr>\n",
       "  </tbody>\n",
       "</table>\n",
       "</div>"
      ],
      "text/plain": [
       "                                    SeriesInstanceUID  \\\n",
       "9   1.2.826.0.1.3680043.8.498.22211629182683830500...   \n",
       "10  1.2.826.0.1.3680043.8.498.22211629182683830500...   \n",
       "11  1.2.826.0.1.3680043.8.498.22211629182683830500...   \n",
       "\n",
       "                                       SOPInstanceUID  \\\n",
       "9   1.2.826.0.1.3680043.8.498.12390798958014529099...   \n",
       "10  1.2.826.0.1.3680043.8.498.78729507603965355580...   \n",
       "11  1.2.826.0.1.3680043.8.498.11692316938253833126...   \n",
       "\n",
       "                                          Coordinates  \\\n",
       "9   {'x': 235.42681047765794, 'y': 217.73805855161...   \n",
       "10  {'x': 234.63790446841296, 'y': 220.10477657935...   \n",
       "11  {'x': 235.42681047765794, 'y': 215.3713405238829}   \n",
       "\n",
       "                              Coordinates Type  Sample position  \n",
       "9   Right Supraclinoid Internal Carotid Artery         0.421277  \n",
       "10  Right Supraclinoid Internal Carotid Artery         0.400000  \n",
       "11  Right Supraclinoid Internal Carotid Artery         0.429787  "
      ]
     },
     "execution_count": 21,
     "metadata": {},
     "output_type": "execute_result"
    }
   ],
   "source": [
    "label_rows = labels[labels['SeriesInstanceUID']==\"1.2.826.0.1.3680043.8.498.22211629182683830500547041948199885869\"]\n",
    "label_rows"
   ]
  },
  {
   "cell_type": "code",
   "execution_count": null,
   "id": "4ea52042",
   "metadata": {},
   "outputs": [
    {
     "ename": "SyntaxError",
     "evalue": "invalid syntax (2895413489.py, line 3)",
     "output_type": "error",
     "traceback": [
      "  \u001b[36mCell\u001b[39m\u001b[36m \u001b[39m\u001b[32mIn[24]\u001b[39m\u001b[32m, line 3\u001b[39m\n\u001b[31m    \u001b[39m\u001b[31mtype = row[]\u001b[39m\n               ^\n\u001b[31mSyntaxError\u001b[39m\u001b[31m:\u001b[39m invalid syntax\n"
     ]
    }
   ],
   "source": [
    "for row in label_rows:\n",
    "    coordinates = row[\"Coordinates\"]\n",
    "    type = row[\"Coordinates Type\"]\n",
    "    if isinstance(coordinates, str):\n",
    "        coordinates = ast.literal_eval(coordinates)"
   ]
  }
 ],
 "metadata": {
  "kernelspec": {
   "display_name": ".venv",
   "language": "python",
   "name": "python3"
  },
  "language_info": {
   "codemirror_mode": {
    "name": "ipython",
    "version": 3
   },
   "file_extension": ".py",
   "mimetype": "text/x-python",
   "name": "python",
   "nbconvert_exporter": "python",
   "pygments_lexer": "ipython3",
   "version": "3.13.5"
  }
 },
 "nbformat": 4,
 "nbformat_minor": 5
}
